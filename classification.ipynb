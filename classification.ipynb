{
 "cells": [
  {
   "cell_type": "code",
   "execution_count": 1,
   "metadata": {},
   "outputs": [],
   "source": [
    "import glob\n",
    "import nltk\n",
    "import grpc\n",
    "import pandas as pd\n",
    "\n",
    "from sklearn import naive_bayes, metrics\n",
    "from sklearn.feature_extraction.text import TfidfVectorizer\n",
    "from sklearn.metrics import confusion_matrix\n",
    "import numpy as np"
   ]
  },
  {
   "cell_type": "code",
   "execution_count": 2,
   "metadata": {},
   "outputs": [],
   "source": [
    "#gRPC gereksinimleri\n",
    "import zemberek_grpc.language_id_pb2 as z_langid\n",
    "import zemberek_grpc.language_id_pb2_grpc as z_langid_g\n",
    "\n",
    "import zemberek_grpc.normalization_pb2 as z_normalization\n",
    "import zemberek_grpc.normalization_pb2_grpc as z_normalization_g\n",
    "\n",
    "import zemberek_grpc.preprocess_pb2 as z_preprocess\n",
    "import zemberek_grpc.preprocess_pb2_grpc as z_preprocess_g\n",
    "\n",
    "import zemberek_grpc.morphology_pb2 as z_morphology\n",
    "import zemberek_grpc.morphology_pb2_grpc as z_morphology_g\n"
   ]
  },
  {
   "cell_type": "code",
   "execution_count": 3,
   "metadata": {},
   "outputs": [],
   "source": [
    "#gRPC server bağlantısı\n",
    "channel = grpc.insecure_channel('localhost:6789')"
   ]
  },
  {
   "cell_type": "code",
   "execution_count": 4,
   "metadata": {},
   "outputs": [],
   "source": [
    "#java class atamaları\n",
    "langid_stub = z_langid_g.LanguageIdServiceStub(channel)\n",
    "normalization_stub = z_normalization_g.NormalizationServiceStub(channel)\n",
    "preprocess_stub = z_preprocess_g.PreprocessingServiceStub(channel)\n",
    "morphology_stub = z_morphology_g.MorphologyServiceStub(channel)"
   ]
  },
  {
   "cell_type": "code",
   "execution_count": 5,
   "metadata": {},
   "outputs": [],
   "source": [
    "#train data dosya yolları\n",
    "train_ekonomi_files = glob.glob(\"./train/ekonomi/*.txt\")\n",
    "train_magazin_files = glob.glob(\"./train/magazin/*.txt\")\n",
    "train_saglik_files = glob.glob(\"./train/saglik/*.txt\")\n",
    "train_spor_files = glob.glob(\"./train/spor/*.txt\")\n",
    "#test data dosya yolları\n",
    "test_ekonomi_files = glob.glob(\"./test/ekonomi/*.txt\")\n",
    "test_magazin_files = glob.glob(\"./test/magazin/*.txt\")\n",
    "test_saglik_files = glob.glob(\"./test/saglik/*.txt\")\n",
    "test_spor_files = glob.glob(\"./test/spor/*.txt\")\n"
   ]
  },
  {
   "cell_type": "code",
   "execution_count": 6,
   "metadata": {},
   "outputs": [],
   "source": [
    "# stop words\n",
    "stops = open(\"./stop-words-turkish.txt\").readlines()\n",
    "temp = []\n",
    "for i in stops:\n",
    "    #yeni satır karakteri silinir\n",
    "    k = str(i).replace(\"\\r\\n\",\"\").replace(\"\\n\",\"\")\n",
    "    temp.append(k)\n",
    "stops = temp"
   ]
  },
  {
   "cell_type": "code",
   "execution_count": 7,
   "metadata": {},
   "outputs": [],
   "source": [
    "train_files_arr = [train_ekonomi_files, train_magazin_files, train_saglik_files, train_spor_files]\n",
    "test_files_arr = [test_ekonomi_files, test_magazin_files, test_saglik_files, test_spor_files]"
   ]
  },
  {
   "cell_type": "code",
   "execution_count": 8,
   "metadata": {},
   "outputs": [],
   "source": [
    "#verilen texti normalleştiren fonksiyon\n",
    "def normalize(text):\n",
    "    #gRPC servera text gönderilir bir response alınır\n",
    "    res = normalization_stub.Normalize(z_normalization.NormalizationRequest(input=text))\n",
    "    #response error kontrolu\n",
    "    if res.normalized_input:\n",
    "        return res.normalized_input\n",
    "    else:\n",
    "        print('Problem normalizing input : ' + res.error)"
   ]
  },
  {
   "cell_type": "code",
   "execution_count": 9,
   "metadata": {},
   "outputs": [],
   "source": [
    "#dosyaları etiketlerine göre düzenlenmesi\n",
    "train_texts = []\n",
    "train_labels=[]\n",
    "train_file_names = []\n",
    "for files in train_files_arr:\n",
    "    for f in files:\n",
    "        with open(f) as text:\n",
    "            #dosya adını alma\n",
    "            train_file_names.append(str(f).split('\\\\'))\n",
    "            #dosya etiketini alma\n",
    "            if \"ekonomi\" in str(f):\n",
    "                train_labels.append(\"ekonomi\")\n",
    "            if \"magazin\" in str(f):\n",
    "                train_labels.append(\"magazin\")\n",
    "            if \"saglik\" in str(f):\n",
    "                train_labels.append(\"saglik\")\n",
    "            if \"spor\" in str(f):\n",
    "                train_labels.append(\"spor\")\n",
    "            #dosyanın textini normaleştirme işlemini yapıp döndüyü dosya texti olarak kaydetme\n",
    "            t = normalize(text.read())\n",
    "            train_texts.append(t)"
   ]
  },
  {
   "cell_type": "code",
   "execution_count": 10,
   "metadata": {},
   "outputs": [],
   "source": [
    "#dosyaları etiketlerine göre düzenlenmesi\n",
    "test_texts, test_labels, test_file_names=[],[],[]\n",
    "for files in test_files_arr:\n",
    "    for f in files:\n",
    "        with open(f) as text:\n",
    "            #dosya adını alma\n",
    "            test_file_names.append(str(f).split(\"\\\\\"))\n",
    "            #dosya etiketini alma\n",
    "            if \"ekonomi\" in str(f):\n",
    "                test_labels.append(\"ekonomi\")\n",
    "            if \"magazin\" in str(f):\n",
    "                test_labels.append(\"magazin\")\n",
    "            if \"saglik\" in str(f):\n",
    "                test_labels.append(\"saglik\")\n",
    "            if \"spor\" in str(f):\n",
    "                test_labels.append(\"spor\")\n",
    "            #dosyanın textini normaleştirme işlemini yapıp döndüyü dosya texti olarak kaydetme\n",
    "            t = normalize(text.read())\n",
    "            test_texts.append(t)"
   ]
  },
  {
   "cell_type": "code",
   "execution_count": 11,
   "metadata": {
    "scrolled": true
   },
   "outputs": [],
   "source": [
    "#train dataları ile dataframe oluşturma\n",
    "trainDF = pd.DataFrame()\n",
    "trainDF[\"label\"] = train_labels\n",
    "trainDF[\"file\"] = [line[1] for line in train_file_names]\n",
    "trainDF[\"text\"] = train_texts"
   ]
  },
  {
   "cell_type": "code",
   "execution_count": 12,
   "metadata": {
    "scrolled": true
   },
   "outputs": [],
   "source": [
    "#test dataları ile dataframe oluşturma\n",
    "testDF = pd.DataFrame()\n",
    "testDF[\"label\"] = test_labels\n",
    "testDF[\"file\"] = [line[1] for line in test_file_names]\n",
    "testDF[\"text\"] = test_texts"
   ]
  },
  {
   "cell_type": "code",
   "execution_count": 13,
   "metadata": {
    "scrolled": true
   },
   "outputs": [],
   "source": [
    "#verilen text dizisini tokenize edip verilen dataframenin sonuna ekler\n",
    "def tokenize(text_arr,dataframe):\n",
    "    token_str = \"\"\n",
    "    tokens = []\n",
    "    for text in text_arr:\n",
    "        #gRPC servera text gönderilir bir response alınır\n",
    "        res = preprocess_stub.Tokenize(z_preprocess.TokenizationRequest(input=text))\n",
    "        for i in res.tokens:\n",
    "            #noktalama işaretleri, sayılar ve tarihler harici olanlar alnır \n",
    "            if i.type != \"Punctuation\" and  i.type != \"Number\" and i.type != \"Date\" and i.type != \"URL\":\n",
    "                token_str += i.token+\" \"\n",
    "        tokens.append(token_str)\n",
    "        token_str = \"\"\n",
    "    dataframe[\"tokenized\"] = tokens"
   ]
  },
  {
   "cell_type": "code",
   "execution_count": 15,
   "metadata": {},
   "outputs": [],
   "source": [
    "def stemming(dataframe):\n",
    "    stemmed = []\n",
    "    stem_str = \"\"\n",
    "    for text in dataframe[\"tokenized\"]:\n",
    "        #text tokenlerine ayrılır\n",
    "        for token in text.split(\" \"):\n",
    "            #boş satır geçilir\n",
    "            if token is \"\":\n",
    "                continue\n",
    "            #gRPC servera text gönderilir bir response alınır\n",
    "            res = morphology_stub.AnalyzeSentence(z_morphology.SentenceAnalysisRequest(input=str(token)))\n",
    "            stem_str += res.results[0].best.dictionaryItem.lemma.lower()+ \" \"\n",
    "        stemmed.append(stem_str)\n",
    "        stem_str = \"\"\n",
    "    dataframe[\"stemmed\"] = stemmed"
   ]
  },
  {
   "cell_type": "code",
   "execution_count": 16,
   "metadata": {
    "scrolled": true
   },
   "outputs": [],
   "source": [
    "tokenize(test_texts,testDF)\n",
    "tokenize(train_texts,trainDF)"
   ]
  },
  {
   "cell_type": "code",
   "execution_count": 17,
   "metadata": {},
   "outputs": [],
   "source": [
    "#stemming kısmı uzun sürmekte \n",
    "stemming(testDF)\n",
    "stemming(trainDF)"
   ]
  },
  {
   "cell_type": "code",
   "execution_count": 18,
   "metadata": {},
   "outputs": [],
   "source": [
    "\n",
    "def remove_stops(dataframe):\n",
    "    no_stops = []\n",
    "    no_stop_str=\"\"\n",
    "    for text in dataframe[\"stemmed\"]:\n",
    "        for word in text.split(\" \"):\n",
    "            if word not in stops:\n",
    "                no_stop_str+=word+\" \"\n",
    "        no_stops.append(no_stop_str)\n",
    "        no_stop_str = \"\"\n",
    "    dataframe[\"no_stop\"] = no_stops"
   ]
  },
  {
   "cell_type": "code",
   "execution_count": 19,
   "metadata": {},
   "outputs": [],
   "source": [
    "\n",
    "remove_stops(testDF)\n",
    "remove_stops(trainDF)\n"
   ]
  },
  {
   "cell_type": "code",
   "execution_count": 20,
   "metadata": {},
   "outputs": [],
   "source": [
    "# ngram level tf-idf \n",
    "#tfidf_vect_ngram = TfidfVectorizer(analyzer='word', token_pattern=r'\\w{1,}', ngram_range=(2,3), max_features=5000)\n",
    "tfidf_vect_ngram = TfidfVectorizer(ngram_range=(1,3), max_features=5000)\n",
    "tfidf_vect_ngram.fit(trainDF['no_stop'])\n",
    "xtrain_tfidf_ngram =  tfidf_vect_ngram.transform(trainDF[\"no_stop\"])\n",
    "xvalid_tfidf_ngram =  tfidf_vect_ngram.transform(testDF[\"no_stop\"])"
   ]
  },
  {
   "cell_type": "code",
   "execution_count": 21,
   "metadata": {},
   "outputs": [],
   "source": [
    "def train_model(classifier, feature_vector_train, label, feature_vector_valid):\n",
    "    # fit the training dataset on the classifier    \n",
    "    classifier.fit(feature_vector_train, label)\n",
    "    \n",
    "    # predict the labels on validation dataset\n",
    "    predictions = classifier.predict(feature_vector_valid)\n",
    "    \n",
    "    return metrics.accuracy_score(predictions, testDF[\"label\"]),predictions\n"
   ]
  },
  {
   "cell_type": "code",
   "execution_count": 22,
   "metadata": {},
   "outputs": [
    {
     "name": "stdout",
     "output_type": "stream",
     "text": [
      "NB, N-Gram Vectors:  0.915625\n"
     ]
    }
   ],
   "source": [
    "\n",
    "\n",
    "accuracy, predictions = train_model(naive_bayes.MultinomialNB(),xtrain_tfidf_ngram,trainDF[\"label\"],xvalid_tfidf_ngram)\n",
    "print (\"NB, N-Gram Vectors: \", accuracy)\n"
   ]
  },
  {
   "cell_type": "code",
   "execution_count": 44,
   "metadata": {},
   "outputs": [],
   "source": [
    "\n",
    "\n",
    "\n",
    "a = pd.DataFrame(xtrain_tfidf_ngram.toarray(),index=[line[1] for line in train_file_names],columns=tfidf_vect_ngram.get_feature_names())\n",
    "b = pd.DataFrame(xvalid_tfidf_ngram.toarray(),index=[line[1].replace(\" \",\"_\") for line in test_file_names],columns=tfidf_vect_ngram.get_feature_names())\n",
    "a[\"Sınıf\"] = train_labels\n",
    "b[\"Sınıf\"] = test_labels\n",
    "a=a.append(b) "
   ]
  },
  {
   "cell_type": "code",
   "execution_count": 47,
   "metadata": {},
   "outputs": [
    {
     "data": {
      "text/plain": [
       "920"
      ]
     },
     "execution_count": 47,
     "metadata": {},
     "output_type": "execute_result"
    }
   ],
   "source": [
    "len(a)"
   ]
  },
  {
   "cell_type": "code",
   "execution_count": 48,
   "metadata": {},
   "outputs": [],
   "source": [
    "a.round(3).to_csv(\"./tf-idf.csv\")"
   ]
  },
  {
   "cell_type": "code",
   "execution_count": 25,
   "metadata": {},
   "outputs": [],
   "source": [
    "\n",
    "cm = confusion_matrix(test_labels, predictions)\n",
    "recall = np.diag(cm) / np.sum(cm, axis = 1)\n",
    "recall = np.append(recall,np.mean(recall))\n",
    "precision = np.diag(cm) / np.sum(cm, axis = 0)\n",
    "precision=np.append(precision,np.mean(precision))\n",
    "f_score = 2*(precision*recall)/(precision+recall)"
   ]
  },
  {
   "cell_type": "code",
   "execution_count": 26,
   "metadata": {},
   "outputs": [],
   "source": [
    "\n",
    "pc=pd.DataFrame(index=[\"Precision\",\"Recall\",\"F-Score\"],columns=[\"ekonomi\",\"magazin\",\"sağlık\",\"spor\",\"ortalama\"])\n",
    "pc.iloc[0],pc.iloc[1],pc.iloc[2] = precision,recall,f_score\n",
    "pc.to_csv(\"./performans_olcum.csv\")\n"
   ]
  },
  {
   "cell_type": "code",
   "execution_count": 27,
   "metadata": {},
   "outputs": [
    {
     "name": "stdout",
     "output_type": "stream",
     "text": [
      "          ekonomi   magazin    sağlık      spor  ortalama\n",
      "Precision  0.9125  0.971014  0.925926  0.866667  0.919027\n",
      "Recall     0.9125    0.8375    0.9375     0.975  0.915625\n",
      "F-Score    0.9125  0.899329  0.931677  0.917647  0.917323\n"
     ]
    }
   ],
   "source": [
    "\n",
    "print(pc)\n"
   ]
  },
  {
   "cell_type": "code",
   "execution_count": null,
   "metadata": {},
   "outputs": [],
   "source": []
  }
 ],
 "metadata": {
  "kernelspec": {
   "display_name": "Python 3",
   "language": "python",
   "name": "python3"
  },
  "language_info": {
   "codemirror_mode": {
    "name": "ipython",
    "version": 3
   },
   "file_extension": ".py",
   "mimetype": "text/x-python",
   "name": "python",
   "nbconvert_exporter": "python",
   "pygments_lexer": "ipython3",
   "version": "3.6.8"
  }
 },
 "nbformat": 4,
 "nbformat_minor": 2
}
